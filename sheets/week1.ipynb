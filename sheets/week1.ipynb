{
 "cells": [
  {
   "cell_type": "markdown",
   "metadata": {},
   "source": [
    "# Week 1\n",
    "\n",
    "This problem sheet tests the representation of numbers on the computer, using\n",
    "modular arithmetic. We also use floating point rounding modes to implement \n",
    "interval arithmetic, and thereby\n",
    "produce rigorous bounds on the exponential."
   ]
  },
  {
   "cell_type": "code",
   "execution_count": 1,
   "metadata": {
    "execution": {
     "iopub.execute_input": "2022-01-11T15:03:43.196662Z",
     "iopub.status.busy": "2022-01-11T15:03:42.783380Z",
     "iopub.status.idle": "2022-01-11T15:03:43.438213Z",
     "shell.execute_reply": "2022-01-11T15:03:43.437634Z"
    }
   },
   "outputs": [],
   "source": [
    "using ColorBitstring, SetRounding"
   ]
  },
  {
   "cell_type": "markdown",
   "metadata": {},
   "source": [
    "## 1. Binary representation\n",
    "\n",
    "\n",
    "**Problem 1.1** What is the binary representations of $1/5$? (Hint: use `printbits` to derive a proposed form.)"
   ]
  },
  {
   "cell_type": "code",
   "execution_count": 2,
   "metadata": {},
   "outputs": [
    {
     "name": "stdout",
     "output_type": "stream",
     "text": [
      "\u001b[31m0\u001b[0m\u001b[32m01111111100\u001b[0m\u001b[34m1001100110011001100110011001100110011001100110011010\u001b[0m"
     ]
    },
    {
     "data": {
      "text/plain": [
       "0.015625"
      ]
     },
     "execution_count": 2,
     "metadata": {},
     "output_type": "execute_result"
    }
   ],
   "source": [
    "printbits(1/5)\n",
    "2^-6.0"
   ]
  },
  {
   "cell_type": "markdown",
   "metadata": {},
   "source": [
    "**Problem 1.2** What is $\\pi$ to 5 binary places? Hint: recall that $\\pi \\approx  3.14$."
   ]
  },
  {
   "cell_type": "code",
   "execution_count": 3,
   "metadata": {},
   "outputs": [
    {
     "name": "stdout",
     "output_type": "stream",
     "text": [
      "\u001b[31m0\u001b[0m\u001b[32m10000000000\u001b[0m\u001b[34m1001001000011111101101010100010001000010110100011000\u001b[0m"
     ]
    }
   ],
   "source": [
    "printbits(Float64(pi))"
   ]
  },
  {
   "cell_type": "markdown",
   "metadata": {},
   "source": [
    "## 2. Integers\n",
    "\n",
    "**Problem 2.1** With 8-bit signed integers, find the bits for the following: $10, 120, -10$."
   ]
  },
  {
   "cell_type": "code",
   "execution_count": 4,
   "metadata": {},
   "outputs": [
    {
     "name": "stdout",
     "output_type": "stream",
     "text": [
      "\u001b[31m0\u001b[0m\u001b[34m0001010\u001b[0m\n",
      "\u001b[31m0\u001b[0m\u001b[34m1111000\u001b[0m\n",
      "\u001b[31m1\u001b[0m\u001b[34m1110110\u001b[0m"
     ]
    }
   ],
   "source": [
    "printlnbits(Int8(10))\n",
    "printlnbits(Int8(120))\n",
    "printbits(Int8(-10))"
   ]
  },
  {
   "cell_type": "markdown",
   "metadata": {},
   "source": [
    "**Problem 2.2** What will `Int8(120) + Int8(10)` return?"
   ]
  },
  {
   "cell_type": "code",
   "execution_count": 5,
   "metadata": {},
   "outputs": [
    {
     "data": {
      "text/plain": [
       "-126"
      ]
     },
     "execution_count": 5,
     "metadata": {},
     "output_type": "execute_result"
    }
   ],
   "source": [
    "Int8(120) + Int8(10)"
   ]
  },
  {
   "cell_type": "markdown",
   "metadata": {},
   "source": [
    "## 3. Floating point numbers\n",
    "\n",
    "**Problem 3.1** What are the single precision $F_{32}$ (`Float32`) floating point representations for the following: \n",
    "$$\n",
    "2, 31, 32, 23/4, (23/4)\\times 2^{100}\n",
    "$$\n",
    "Check your answers using `printbits`."
   ]
  },
  {
   "cell_type": "code",
   "execution_count": 6,
   "metadata": {},
   "outputs": [
    {
     "name": "stdout",
     "output_type": "stream",
     "text": [
      "\u001b[31m0\u001b[0m\u001b[32m10000000\u001b[0m\u001b[34m00000000000000000000000\u001b[0m\n",
      "\u001b[31m0\u001b[0m\u001b[32m10000011\u001b[0m\u001b[34m11110000000000000000000\u001b[0m\n",
      "\u001b[31m0\u001b[0m\u001b[32m10000100\u001b[0m\u001b[34m00000000000000000000000\u001b[0m\n",
      "\u001b[31m0\u001b[0m\u001b[32m10000001\u001b[0m\u001b[34m01110000000000000000000\u001b[0m\n",
      "\u001b[31m0\u001b[0m\u001b[32m11100101\u001b[0m\u001b[34m01110000000000000000000\u001b[0m"
     ]
    }
   ],
   "source": [
    "printlnbits(Float32(2))\n",
    "printlnbits(Float32(31))\n",
    "printlnbits(Float32(32))\n",
    "printlnbits(Float32(23/4))\n",
    "printbits(Float32((23/4) * (2^100.0)))  # 100.0 so that 2^100 is stored as a Float64 and not an Int64, which would overflow"
   ]
  },
  {
   "cell_type": "markdown",
   "metadata": {},
   "source": [
    "**Problem 3.2** Let $m(y) = \\min\\{x \\in F_{32} : x > y \\}$ be the smallest single precision number\n",
    "greater than $y$. What is $m(2) - 2$ and $m(1024) - 1024$? Check your answer using the `nextfloat`\n",
    "command."
   ]
  },
  {
   "cell_type": "code",
   "execution_count": 7,
   "metadata": {},
   "outputs": [],
   "source": [
    "@assert nextfloat(Float32(2)) - 2 == 2^-22.0\n",
    "@assert nextfloat(Float32(1024)) - 1024 == 2^-13"
   ]
  },
  {
   "cell_type": "markdown",
   "metadata": {},
   "source": [
    "## 4. Arithmetic\n",
    "\n",
    "\n",
    "**Problem 4.1** Suppose $x = 1.25$ and consider 16-bit floating point arithmetic (`Float16`). \n",
    "What is the error in approximating $x$ by the nearest float point number ${\\rm fl}(x)$?\n",
    "What is the error in approximating $2x$, $x/2$, $x + 2$ and $x - 2$ by $2 \\otimes x$, $x \\oslash 2$, $x ⊕ 2$ and $x \\ominus 2$?"
   ]
  },
  {
   "cell_type": "markdown",
   "metadata": {},
   "source": [
    "**Problem 4.2** For what floating point numbers is $x \\oslash 2 \\neq x/2$ and $x ⊕ 2 \\neq x + 2$?"
   ]
  },
  {
   "cell_type": "code",
   "execution_count": null,
   "metadata": {},
   "outputs": [],
   "source": []
  },
  {
   "cell_type": "markdown",
   "metadata": {},
   "source": [
    "**Problem 4.3** Explain why the following return `true`. What is the largest floating point number `y` such that `y + 1 ≠ y`?"
   ]
  },
  {
   "cell_type": "code",
   "execution_count": 8,
   "metadata": {
    "execution": {
     "iopub.execute_input": "2022-01-11T15:03:43.440348Z",
     "iopub.status.busy": "2022-01-11T15:03:43.439828Z",
     "iopub.status.idle": "2022-01-11T15:03:43.884978Z",
     "shell.execute_reply": "2022-01-11T15:03:43.884583Z"
    }
   },
   "outputs": [
    {
     "data": {
      "text/plain": [
       "true"
      ]
     },
     "execution_count": 8,
     "metadata": {},
     "output_type": "execute_result"
    }
   ],
   "source": [
    "x = 10.0^100\n",
    "x + 1 == x"
   ]
  },
  {
   "cell_type": "code",
   "execution_count": 9,
   "metadata": {},
   "outputs": [
    {
     "name": "stdout",
     "output_type": "stream",
     "text": [
      "\u001b[31m0\u001b[0m\u001b[32m10000110100\u001b[0m\u001b[34m1111111111111111111111111111111111111111111111111111\u001b[0m"
     ]
    }
   ],
   "source": [
    "# Example in Float64\n",
    "σ = 1023\n",
    "S = 52\n",
    "\n",
    "sig = 2.0^(-S)*parse(UInt64, \"1\"^(S + 1); base=2)\n",
    "x = 2.0^(σ + S + 1 - σ)*sig\n",
    "\n",
    "printbits(x)\n",
    "\n",
    "@assert x + 1 != x"
   ]
  },
  {
   "cell_type": "markdown",
   "metadata": {},
   "source": [
    "**Problem 4.4** What are the exact bits for $1/5$, $1/5 + 1$ computed\n",
    "using  half-precision arithmetic (`Float16`) (using default rounding)?"
   ]
  },
  {
   "cell_type": "code",
   "execution_count": 10,
   "metadata": {},
   "outputs": [
    {
     "name": "stdout",
     "output_type": "stream",
     "text": [
      "\u001b[31m0\u001b[0m\u001b[32m01100\u001b[0m\u001b[34m1001100110\u001b[0m"
     ]
    }
   ],
   "source": [
    "printbits(Float16(1/5))"
   ]
  },
  {
   "cell_type": "markdown",
   "metadata": {},
   "source": [
    "**Problem 4.5** Explain why the following does not return `1`. Can you compute the bits explicitly?"
   ]
  },
  {
   "cell_type": "code",
   "execution_count": 11,
   "metadata": {
    "execution": {
     "iopub.execute_input": "2022-01-11T15:03:43.887007Z",
     "iopub.status.busy": "2022-01-11T15:03:43.886490Z",
     "iopub.status.idle": "2022-01-11T15:03:44.110154Z",
     "shell.execute_reply": "2022-01-11T15:03:44.109659Z"
    }
   },
   "outputs": [
    {
     "data": {
      "text/plain": [
       "Float16(1.004)"
      ]
     },
     "execution_count": 11,
     "metadata": {},
     "output_type": "execute_result"
    }
   ],
   "source": [
    "Float16(0.1) / (Float16(1.1) - 1)"
   ]
  },
  {
   "cell_type": "markdown",
   "metadata": {},
   "source": [
    "**Problem 4.6** Find a bound on the _absolute error_ in terms of a constant times\n",
    "$ϵ_{\\rm m}$ for the following computations\n",
    "$$\n",
    "\\begin{align*}\n",
    "(1.1 * 1.2) &+ 1.3 \\\\\n",
    "(1.1 - 1) &/ 0.1 \n",
    "\\end{align*}\n",
    "$$\n",
    "implemented using floating point arithmetic (with any precision). "
   ]
  },
  {
   "cell_type": "markdown",
   "metadata": {},
   "source": [
    "## 5. Interval arithmetic\n",
    "\n",
    "\n",
    "The following problems consider implementation of interval arithmetic for\n",
    "proving precise bounds on arithmetic operations. That is recall the set operations\n",
    "$$\n",
    "A + B = \\{x + y : x \\in A, y \\in B\\}, AB = \\{xy : x \\in A, y \\in B\\}.\n",
    "$$\n",
    "\n",
    "**Problem 5.1** For intervals $A = [a,b]$ and $B = [c,d]$ such that $0 \\notin A,B$\n",
    " and integer $n \\neq 0$, \n",
    "deduce formulas for the minimum and maximum of $A/n$, $A+B$ and $AB$."
   ]
  },
  {
   "cell_type": "markdown",
   "metadata": {},
   "source": [
    "$A/n = [a/n, b/n]$"
   ]
  },
  {
   "cell_type": "markdown",
   "metadata": {},
   "source": [
    "**Problem 5.2** \n",
    "We want to implement floating point variants such that, for $S = [a,b] + [c,d]$\n",
    " $P = [a,b] * [c,d]$, and $D = [a,b]/n$ for an integer $n$,\n",
    "$$\n",
    "\\begin{align*}\n",
    "[a,b] ⊕ [c,d] &:= [{\\rm fl}^{\\rm down}(\\min S), {\\rm fl}^{\\rm up}(\\max S)] \\\\\n",
    "[a,b] ⊗ [c,d] &:= [{\\rm fl}^{\\rm down}(\\min P), {\\rm fl}^{\\rm up}(\\max P)] \\\\\n",
    "[a,b] ⊘ n &:= [{\\rm fl}^{\\rm down}(\\min D), {\\rm fl}^{\\rm up}(\\max D)]\n",
    "\\end{align*}\n",
    "$$\n",
    "This guarantees $S ⊆ [a,b] ⊕ [c,d]$, $P ⊆ [a,b] ⊗ [c,d]$, and\n",
    "$D ⊆ [a,b] ⊘ n$.\n",
    "In other words, if $x \\in [a,b]$ and\n",
    "$y \\in [c,d]$ then $x +y \\in [a,b] ⊕ [c,d]$, and we thereby have  bounds on $x + y$.\n",
    "\n",
    "Use the formulae from Problem 5.1 to complete (by replacing the `# TODO: …` comments with code)\n",
    " the following implementation of an \n",
    "`Interval` \n",
    "so that `+`, `-`, and `/` implement $⊕$, $⊖$, and $⊘$ as defined above."
   ]
  },
  {
   "cell_type": "code",
   "execution_count": 12,
   "metadata": {
    "execution": {
     "iopub.execute_input": "2022-01-11T15:03:44.112560Z",
     "iopub.status.busy": "2022-01-11T15:03:44.111759Z",
     "iopub.status.idle": "2022-01-11T15:03:44.520356Z",
     "shell.execute_reply": "2022-01-11T15:03:44.519848Z"
    }
   },
   "outputs": [
    {
     "data": {
      "text/plain": [
       "* (generic function with 365 methods)"
      ]
     },
     "execution_count": 12,
     "metadata": {},
     "output_type": "execute_result"
    }
   ],
   "source": [
    "# Interval(a,b) represents the closed interval [a,b]\n",
    "struct Interval{T}\n",
    "    a::T\n",
    "    b::T\n",
    "end\n",
    "\n",
    "import Base: *, +, -, /, one, in\n",
    "\n",
    "# create an interval corresponding to [1,1]\n",
    "one(x::Interval) = Interval(one(x.a), one(x.b))\n",
    "\n",
    "# Support x in Interval(a,b)\n",
    "in(x, y::Interval) = y.a ≤ x ≤ y.b\n",
    "\n",
    "# Following should implement ⊕\n",
    "function +(x::Interval, y::Interval)\n",
    "    T = promote_type(typeof(x.a), typeof(x.b))\n",
    "    a = setrounding(T, RoundDown) do\n",
    "        x.a + y.a\n",
    "    end\n",
    "    b = setrounding(T, RoundUp) do\n",
    "        x.b + y.b\n",
    "    end\n",
    "    Interval(a, b)\n",
    "end\n",
    "\n",
    "# Following should implement ⊘\n",
    "function /(x::Interval, n::Integer)\n",
    "    T = typeof(x.a)\n",
    "    if iszero(n)\n",
    "        error(\"Dividing by zero not support\")\n",
    "    end\n",
    "    a = setrounding(T, RoundDown) do\n",
    "        x.a/n\n",
    "    end\n",
    "    b = setrounding(T, RoundUp) do\n",
    "        x.b/n\n",
    "    end\n",
    "    Interval(a, b)\n",
    "end\n",
    "\n",
    "# Following should implement ⊗\n",
    "function *(x::Interval, y::Interval)\n",
    "    T = promote_type(typeof(x.a), typeof(x.b))\n",
    "    if 0 in x || 0 in y\n",
    "        error(\"Multiplying with intervals containing 0 not supported.\")\n",
    "    end\n",
    "    a = setrounding(T, RoundDown) do\n",
    "        x.a * y.a\n",
    "    end\n",
    "    b = setrounding(T, RoundUp) do\n",
    "        x.b * y.b\n",
    "    end\n",
    "    Interval(a, b)\n",
    "end"
   ]
  },
  {
   "cell_type": "markdown",
   "metadata": {},
   "source": [
    "**Problem 5.4** The following function  computes the first `n+1` terms of the Taylor series of $\\exp(x)$:\n",
    "$$\n",
    "\\sum_{k=0}^n {x^k \\over k!}\n",
    "$$"
   ]
  },
  {
   "cell_type": "code",
   "execution_count": 13,
   "metadata": {
    "execution": {
     "iopub.execute_input": "2022-01-11T15:03:44.522125Z",
     "iopub.status.busy": "2022-01-11T15:03:44.521623Z",
     "iopub.status.idle": "2022-01-11T15:03:44.602683Z",
     "shell.execute_reply": "2022-01-11T15:03:44.602139Z"
    }
   },
   "outputs": [
    {
     "data": {
      "text/plain": [
       "exp_t (generic function with 1 method)"
      ]
     },
     "execution_count": 13,
     "metadata": {},
     "output_type": "execute_result"
    }
   ],
   "source": [
    "function exp_t(x, n)\n",
    "    ret = one(x) # 1 of same type as x\n",
    "    s = one(x)\n",
    "    for k = 1:n\n",
    "        s = s/k * x\n",
    "        ret = ret + s\n",
    "    end\n",
    "    ret\n",
    "end"
   ]
  },
  {
   "cell_type": "markdown",
   "metadata": {},
   "source": [
    "Bound the tail of the Taylor series for ${\\rm e}^x$ assuming $|x| \\leq 1$. \n",
    "(Hint: ${\\rm e}^x \\leq 3$ for $x \\leq 1$.)\n",
    "Use the bound\n",
    "to complete the function `exp_bound` which computes ${\\rm e}^x$ with rigorous error bounds, that is\n",
    "so that when applied to an interval $[a,b]$ it returns an interval that is \n",
    "guaranteed to contain the interval $[{\\rm e}^a, {\\rm e}^b]$."
   ]
  },
  {
   "cell_type": "code",
   "execution_count": 14,
   "metadata": {
    "execution": {
     "iopub.execute_input": "2022-01-11T15:03:44.604474Z",
     "iopub.status.busy": "2022-01-11T15:03:44.603972Z",
     "iopub.status.idle": "2022-01-11T15:03:44.694687Z",
     "shell.execute_reply": "2022-01-11T15:03:44.694103Z"
    }
   },
   "outputs": [
    {
     "data": {
      "text/plain": [
       "exp_bound (generic function with 1 method)"
      ]
     },
     "execution_count": 14,
     "metadata": {},
     "output_type": "execute_result"
    }
   ],
   "source": [
    "function exp_bound(x::Interval, n)\n",
    "    if abs(x.a) > 1 || abs(x.b) > 1\n",
    "        error(\"Interval must be a subset of [-1, 1]\")\n",
    "    end\n",
    "    ret = exp_t(x, n) # the code for Taylor series should work on Interval unmodified\n",
    "    f = factorial(min(20, n + 1)) # avoid overflow in computing factorial\n",
    "    T = typeof(ret.a)\n",
    "\n",
    "    ret = Interval(ret.a - 1/f, ret.b + 1/f)\n",
    "end"
   ]
  },
  {
   "cell_type": "markdown",
   "metadata": {},
   "source": [
    "Check your result by assuring that\n",
    "the following returns `true`:"
   ]
  },
  {
   "cell_type": "code",
   "execution_count": 15,
   "metadata": {
    "execution": {
     "iopub.execute_input": "2022-01-11T15:03:44.696821Z",
     "iopub.status.busy": "2022-01-11T15:03:44.696200Z",
     "iopub.status.idle": "2022-01-11T15:03:46.166357Z",
     "shell.execute_reply": "2022-01-11T15:03:46.165960Z"
    }
   },
   "outputs": [
    {
     "data": {
      "text/plain": [
       "true"
      ]
     },
     "execution_count": 15,
     "metadata": {},
     "output_type": "execute_result"
    }
   ],
   "source": [
    "exp(big(1)) in exp_bound(Interval(1.0,1.0), 20) && exp(big(-1)) in exp_bound(Interval(-1.0,-1.0), 20)"
   ]
  }
 ],
 "metadata": {
  "kernelspec": {
   "display_name": "Julia 1.7.1",
   "language": "julia",
   "name": "julia-1.7"
  },
  "language_info": {
   "file_extension": ".jl",
   "mimetype": "application/julia",
   "name": "julia",
   "version": "1.7.1"
  }
 },
 "nbformat": 4,
 "nbformat_minor": 2
}
