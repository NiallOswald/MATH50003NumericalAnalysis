{
 "cells": [
  {
   "cell_type": "markdown",
   "metadata": {},
   "source": [
    "# MATH50003 Numerical Analysis: Problem 3\n",
    "\n",
    "This problem sheet explores implementation of triangular solves,\n",
    "supporting a matrix with two super-diagonals, as well as\n",
    "permutation and Householder reflections that can be applied to a vector in\n",
    "$O(n)$ complexity."
   ]
  },
  {
   "cell_type": "code",
   "execution_count": null,
   "metadata": {
    "execution": {
     "iopub.execute_input": "2022-01-21T15:14:34.786524Z",
     "iopub.status.busy": "2022-01-21T15:14:34.340567Z",
     "iopub.status.idle": "2022-01-21T15:14:35.019587Z",
     "shell.execute_reply": "2022-01-21T15:14:35.019006Z"
    }
   },
   "outputs": [],
   "source": [
    "using LinearAlgebra, Test\n",
    "\n",
    "# We will override these functions below\n",
    "import Base: getindex, setindex!, size, *, \\"
   ]
  },
  {
   "cell_type": "markdown",
   "metadata": {},
   "source": [
    "## 1. Dense Matrices\n",
    "\n",
    "**Problem 1.1** Show that `A*x` is not\n",
    "implemented as `mul(A, x)` from the lecture notes\n",
    "by finding a `Float64` example  where the bits do not match."
   ]
  },
  {
   "cell_type": "code",
   "execution_count": 2,
   "metadata": {},
   "outputs": [],
   "source": [
    "function mul(A, x)\n",
    "    m, n = size(A)\n",
    "    ret = zeros(eltype(A), m)\n",
    "    for j = 1:n\n",
    "        for i = 1:m\n",
    "            ret[i] += A[i, j] * x[j]\n",
    "        end\n",
    "    end\n",
    "    ret\n",
    "end;"
   ]
  },
  {
   "cell_type": "code",
   "execution_count": 4,
   "metadata": {},
   "outputs": [
    {
     "data": {
      "text/plain": [
       "false"
      ]
     },
     "execution_count": 4,
     "metadata": {},
     "output_type": "execute_result"
    }
   ],
   "source": [
    "n = 10\n",
    "A = randn(n, n)\n",
    "x = randn(n)\n",
    "\n",
    "A*x == mul(A, x)"
   ]
  },
  {
   "cell_type": "markdown",
   "metadata": {},
   "source": [
    "## 2. Triangular Matrices\n",
    "\n",
    "**Problem 2.1** Complete the following functions for solving linear systems with\n",
    "triangular systems by implementing back and forward-substitution:"
   ]
  },
  {
   "cell_type": "code",
   "execution_count": 5,
   "metadata": {
    "execution": {
     "iopub.execute_input": "2022-01-21T15:14:35.021752Z",
     "iopub.status.busy": "2022-01-21T15:14:35.021115Z",
     "iopub.status.idle": "2022-01-21T15:14:35.453273Z",
     "shell.execute_reply": "2022-01-21T15:14:35.452865Z"
    }
   },
   "outputs": [],
   "source": [
    "function ldiv(A::UpperTriangular, b)\n",
    "    n = size(A,1)\n",
    "    x = zeros(n)\n",
    "    \n",
    "    if length(b) != n\n",
    "        error(\"The system is not compatible\")\n",
    "    end\n",
    "    \n",
    "    for k = n:-1:1\n",
    "        x[k] = (b[k] - sum([A[k, j]*x[j] for j = k+1:n]))/A[k, k]\n",
    "    end\n",
    "    x\n",
    "end;\n",
    "\n",
    "function ldiv(A::LowerTriangular, b)\n",
    "    n = size(A,1)\n",
    "    x = zeros(n)\n",
    "    \n",
    "    if length(b) != n\n",
    "        error(\"The system is not compatible\")\n",
    "    end\n",
    "    \n",
    "    for k = 1:n\n",
    "        x[k] = (b[k] - sum([A[k, j]*x[j] for j = 1:k-1]))/A[k, k]\n",
    "    end\n",
    "    x\n",
    "end;"
   ]
  },
  {
   "cell_type": "code",
   "execution_count": 6,
   "metadata": {},
   "outputs": [],
   "source": [
    "# Test matrix\n",
    "n = 10\n",
    "A = randn(n, n)\n",
    "x = randn(n)\n",
    "\n",
    "U = UpperTriangular(A)\n",
    "L = LowerTriangular(A)\n",
    "\n",
    "b_U = U*x\n",
    "b_L = L*x;"
   ]
  },
  {
   "cell_type": "code",
   "execution_count": 7,
   "metadata": {},
   "outputs": [
    {
     "data": {
      "text/plain": [
       "\u001b[32m\u001b[1mTest Passed\u001b[22m\u001b[39m\n",
       "  Expression: ldiv(U, b_U) ≈ x && ldiv(L, b_L) ≈ x"
      ]
     },
     "execution_count": 7,
     "metadata": {},
     "output_type": "execute_result"
    }
   ],
   "source": [
    "@test ldiv(U, b_U) ≈ x && ldiv(L, b_L) ≈ x"
   ]
  },
  {
   "cell_type": "markdown",
   "metadata": {},
   "source": [
    "**Problem 2.2⋆** Given $𝐱 ∈ ℝ^n$, find a lower triangular matrix of the form\n",
    "$$\n",
    "L = I - 2 𝐯 𝐞_1^⊤\n",
    "$$\n",
    "such that:\n",
    "$$\n",
    "L 𝐱 = x_1 𝐞_1.\n",
    "$$\n",
    "What does $L𝐲$ equal if $𝐲  ∈ ℝ^n$ satisfies $y_1 = 𝐞_1^⊤ 𝐲 = 0$?"
   ]
  },
  {
   "cell_type": "markdown",
   "metadata": {},
   "source": [
    "## 3. Banded matrices\n",
    "\n",
    "**Problem 3.1** Complete the implementation of `UpperTridiagonal` which represents a banded matrix with\n",
    "bandwidths $(l,u) = (0,2)$:"
   ]
  },
  {
   "cell_type": "code",
   "execution_count": 8,
   "metadata": {
    "execution": {
     "iopub.execute_input": "2022-01-21T15:14:35.455661Z",
     "iopub.status.busy": "2022-01-21T15:14:35.455040Z",
     "iopub.status.idle": "2022-01-21T15:14:35.552876Z",
     "shell.execute_reply": "2022-01-21T15:14:35.552441Z"
    }
   },
   "outputs": [],
   "source": [
    "struct UpperTridiagonal{T} <: AbstractMatrix{T}\n",
    "    d::Vector{T}   # diagonal entries\n",
    "    du::Vector{T}  # super-diagonal enries\n",
    "    du2::Vector{T} # second-super-diagonal entries\n",
    "end;\n",
    "\n",
    "size(U::UpperTridiagonal) = (length(U.d),length(U.d));\n",
    "\n",
    "function getindex(U::UpperTridiagonal, k::Int, j::Int)\n",
    "    diags = [U.d,U.du,U.du2]\n",
    "\n",
    "    if k <= j && j <= k + 2\n",
    "        ret = diags[j - k + 1][k]\n",
    "    else\n",
    "        ret = 0\n",
    "    end\n",
    "    ret\n",
    "end;\n",
    "\n",
    "function setindex!(U::UpperTridiagonal, v, k::Int, j::Int)\n",
    "    diags = [U.d,U.du,U.du2]\n",
    "    if j > k+2\n",
    "        error(\"Cannot modify off-band\")\n",
    "    end\n",
    "\n",
    "    diags[j - k][k] = v\n",
    "    U\n",
    "end;"
   ]
  },
  {
   "cell_type": "markdown",
   "metadata": {},
   "source": [
    "**Problem 3.2** Complete the following implementations of `*` and `\\` for `UpperTridiagonal` so that\n",
    "they take only $O(n)$ operations."
   ]
  },
  {
   "cell_type": "code",
   "execution_count": 9,
   "metadata": {
    "execution": {
     "iopub.execute_input": "2022-01-21T15:14:35.554903Z",
     "iopub.status.busy": "2022-01-21T15:14:35.554376Z",
     "iopub.status.idle": "2022-01-21T15:14:35.653168Z",
     "shell.execute_reply": "2022-01-21T15:14:35.652641Z"
    }
   },
   "outputs": [],
   "source": [
    "function *(U::UpperTridiagonal, x::AbstractVector)\n",
    "    T = promote_type(eltype(U), eltype(x)) # make a type that contains both the element type of U and x\n",
    "    n = size(U,1)\n",
    "\n",
    "    [sum([U[i, j]*x[j] for j = i:min(i+2, n)]) for i = (1:n)]\n",
    "end;\n",
    "\n",
    "function \\(U::UpperTridiagonal, b::AbstractVector)\n",
    "    T = promote_type(eltype(U), eltype(b)) # make a type that contains both the element type of U and b\n",
    "    n = size(U,1)\n",
    "    x = zeros(T, size(U,2))\n",
    "\n",
    "    for k = n:-1:1\n",
    "        x[k] = (b[k] - sum([U[k, j]*x[j] for j = k+1:min(k+3, n)]))/U[k, k]\n",
    "    end\n",
    "    x\n",
    "end;"
   ]
  },
  {
   "cell_type": "code",
   "execution_count": 10,
   "metadata": {},
   "outputs": [],
   "source": [
    "# Test matrix\n",
    "n = 10\n",
    "\n",
    "d = randn(n)\n",
    "du = randn(n-1)\n",
    "du2 = randn(n-2)\n",
    "diags = [d, du, du2]\n",
    "\n",
    "U = UpperTridiagonal(d, du, du2)\n",
    "x = randn(n)\n",
    "\n",
    "A = zeros(n,n)\n",
    "for i = 1:n\n",
    "    for j = 1:min(3, n-i+1)\n",
    "        A[i, j+i-1] = diags[j][i]\n",
    "    end\n",
    "end"
   ]
  },
  {
   "cell_type": "code",
   "execution_count": 11,
   "metadata": {},
   "outputs": [
    {
     "data": {
      "text/plain": [
       "\u001b[32m\u001b[1mTest Passed\u001b[22m\u001b[39m\n",
       "  Expression: A * x ≈ U * x && U \\ (U * x) ≈ x"
      ]
     },
     "execution_count": 11,
     "metadata": {},
     "output_type": "execute_result"
    }
   ],
   "source": [
    "@test A*x ≈ U*x && U\\(U*x) ≈ x"
   ]
  },
  {
   "cell_type": "markdown",
   "metadata": {},
   "source": [
    "## 4. Permutations\n",
    "\n",
    "**Problem 4.1⋆** What are the permutation matrices corresponding to the following permutations?\n",
    "$$\n",
    "\\begin{pmatrix}\n",
    "1 & 2 & 3 \\\\\n",
    "3 & 2 & 1\n",
    "\\end{pmatrix}, \\begin{pmatrix}\n",
    "1 & 2 & 3 & 4 & 5 & 6\\\\\n",
    "2 & 1 & 4 & 3 & 6 & 5\n",
    "\\end{pmatrix}.\n",
    "$$\n",
    "\n",
    "\n",
    "**Problem 4.2** Complete the implementation of a type representing\n",
    "permutation matrices that supports `P[k,j]` and such that `*` takes $O(n)$ operations."
   ]
  },
  {
   "cell_type": "code",
   "execution_count": 12,
   "metadata": {
    "execution": {
     "iopub.execute_input": "2022-01-21T15:14:35.655304Z",
     "iopub.status.busy": "2022-01-21T15:14:35.654771Z",
     "iopub.status.idle": "2022-01-21T15:14:36.608293Z",
     "shell.execute_reply": "2022-01-21T15:14:36.607825Z"
    }
   },
   "outputs": [
    {
     "data": {
      "text/plain": [
       "\u001b[32m\u001b[1mTest Passed\u001b[22m\u001b[39m\n",
       "  Expression: P == (I(5))[p, :]\n",
       "   Evaluated: [1 0 … 0 0; 0 0 … 1 0; … ; 0 0 … 0 1; 0 0 … 0 0] == sparse([1, 3, 5, 2, 4], [1, 2, 3, 4, 5], Bool[1, 1, 1, 1, 1], 5, 5)"
      ]
     },
     "execution_count": 12,
     "metadata": {},
     "output_type": "execute_result"
    }
   ],
   "source": [
    "struct PermutationMatrix <: AbstractMatrix{Int}\n",
    "    p::Vector{Int} # represents the permutation whose action is v[p]\n",
    "    function PermutationMatrix(p::Vector)\n",
    "        sort(p) == 1:length(p) || error(\"input is not a valid permutation\")\n",
    "        new(p)\n",
    "    end\n",
    "end\n",
    "\n",
    "size(P::PermutationMatrix) = (length(P.p),length(P.p))\n",
    "\n",
    "function getindex(P::PermutationMatrix, k::Int, j::Int)\n",
    "    Int(j == P.p[k])\n",
    "end\n",
    "\n",
    "function *(P::PermutationMatrix, x::AbstractVector)\n",
    "    x[P.p]\n",
    "end\n",
    "\n",
    "# If your code is correct, this \"unit test\" will succeed\n",
    "p = [1, 4, 2, 5, 3]\n",
    "P = PermutationMatrix(p)\n",
    "@test P == I(5)[p,:]"
   ]
  },
  {
   "cell_type": "markdown",
   "metadata": {},
   "source": [
    "## 5. Orthogonal matrices\n",
    "\n",
    "**Problem 5.1⋆** Show that orthogonal matrices preserve the 2-norm of vectors:\n",
    "$$\n",
    "\\|Q 𝐯\\| = \\|𝐯\\|.\n",
    "$$\n",
    "\n",
    "\n",
    "**Problem 5.2⋆** Show that the eigenvalues $λ$ of an orthogonal matrix $Q$ are\n",
    "on the unit circle: $|λ| = 1$.\n",
    "\n",
    "\n",
    "**Problem 5.3⋆** Explain why an orthogonal matrix $Q$ must be equal to $I$ if all its eigenvalues are 1.\n",
    "\n",
    "\n",
    "**Problem 5.4** Complete the implementation of a type representing\n",
    "reflections that supports `Q[k,j]` and such that `*` takes $O(n)$ operations."
   ]
  },
  {
   "cell_type": "code",
   "execution_count": 13,
   "metadata": {
    "execution": {
     "iopub.execute_input": "2022-01-21T15:14:36.610522Z",
     "iopub.status.busy": "2022-01-21T15:14:36.609942Z",
     "iopub.status.idle": "2022-01-21T15:14:38.094778Z",
     "shell.execute_reply": "2022-01-21T15:14:38.094388Z"
    }
   },
   "outputs": [
    {
     "data": {
      "text/plain": [
       "\u001b[32m\u001b[1mTest Passed\u001b[22m\u001b[39m\n",
       "  Expression: Q' * Q ≈ I\n",
       "   Evaluated: [1.0 -2.6020852139652106e-18 … 1.9081958235744878e-17 -3.469446951953614e-18; -2.6020852139652106e-18 1.0 … 1.5265566588595902e-16 -5.551115123125783e-17; … ; 1.9081958235744878e-17 1.5265566588595902e-16 … 1.0000000000000002 -1.1102230246251565e-16; -3.469446951953614e-18 -5.551115123125783e-17 … -1.1102230246251565e-16 1.0] ≈ UniformScaling{Bool}(true)"
      ]
     },
     "execution_count": 13,
     "metadata": {},
     "output_type": "execute_result"
    }
   ],
   "source": [
    "# Represents I - 2v*v'\n",
    "struct Reflection{T} <: AbstractMatrix{T}\n",
    "    v::Vector{T}\n",
    "end\n",
    "\n",
    "Reflection(x::Vector{T}) where T = Reflection{T}(x/norm(x))\n",
    "\n",
    "size(Q::Reflection) = (length(Q.v),length(Q.v))\n",
    "\n",
    "function getindex(Q::Reflection, k::Int, j::Int)\n",
    "    ==(k, j) - 2*Q.v[k]*Q.v[j]\n",
    "end\n",
    "\n",
    "function *(P::Reflection, x::AbstractVector)\n",
    "    (I - 2P.v*P.v')*x\n",
    "end\n",
    "\n",
    "# If your code is correct, these \"unit tests\" will succeed\n",
    "x = randn(5)\n",
    "Q = Reflection(x)\n",
    "v = x/norm(x)\n",
    "@test Q == I-2v*v'\n",
    "@test Q*v ≈ -v\n",
    "@test Q'Q ≈ I"
   ]
  },
  {
   "cell_type": "markdown",
   "metadata": {},
   "source": [
    "**Problem 5.5** Complete the following implementation of a Housholder reflection  so that the\n",
    "unit tests pass. Here `s == true` means the Householder reflection is sent to the positive axis and `s == false` is the negative axis."
   ]
  },
  {
   "cell_type": "code",
   "execution_count": 14,
   "metadata": {
    "execution": {
     "iopub.execute_input": "2022-01-21T15:14:38.096777Z",
     "iopub.status.busy": "2022-01-21T15:14:38.096232Z",
     "iopub.status.idle": "2022-01-21T15:14:39.129435Z",
     "shell.execute_reply": "2022-01-21T15:14:39.129053Z"
    }
   },
   "outputs": [
    {
     "data": {
      "text/plain": [
       "\u001b[32m\u001b[1mTest Passed\u001b[22m\u001b[39m\n",
       "  Expression: Q * x ≈ [-(norm(x)); zeros(eltype(x), length(x) - 1)]\n",
       "   Evaluated: [-2.0381511574659714, 2.6020852139652106e-17, 1.8388068845354155e-16, -3.469446951953614e-16, 1.2917987639212584e-17] ≈ [-2.038151157465971, 0.0, 0.0, 0.0, 0.0]"
      ]
     },
     "execution_count": 14,
     "metadata": {},
     "output_type": "execute_result"
    }
   ],
   "source": [
    "function householderreflection(s::Bool, x::AbstractVector)\n",
    "    y = copy(x)\n",
    "    y[1] += -(2s - 1)*norm(x)\n",
    "    w = y/norm(y)\n",
    "\n",
    "    Reflection(w)\n",
    "end\n",
    "\n",
    "x = randn(5)\n",
    "Q = householderreflection(true, x)\n",
    "@test Q isa Reflection\n",
    "@test Q*x ≈ [norm(x);zeros(eltype(x),length(x)-1)]\n",
    "\n",
    "Q = householderreflection(false, x)\n",
    "@test Q isa Reflection\n",
    "@test Q*x ≈ [-norm(x);zeros(eltype(x),length(x)-1)]"
   ]
  },
  {
   "cell_type": "code",
   "execution_count": null,
   "metadata": {},
   "outputs": [],
   "source": []
  }
 ],
 "metadata": {
  "kernelspec": {
   "display_name": "Julia 1.7.1",
   "language": "julia",
   "name": "julia-1.7"
  },
  "language_info": {
   "file_extension": ".jl",
   "mimetype": "application/julia",
   "name": "julia",
   "version": "1.7.1"
  }
 },
 "nbformat": 4,
 "nbformat_minor": 2
}
